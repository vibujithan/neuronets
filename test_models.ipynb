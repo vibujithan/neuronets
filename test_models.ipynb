{
 "cells": [
  {
   "cell_type": "code",
   "execution_count": 1,
   "id": "initial_id",
   "metadata": {
    "ExecuteTime": {
     "end_time": "2024-12-12T20:52:37.195616Z",
     "start_time": "2024-12-12T20:52:36.844375Z"
    },
    "collapsed": true
   },
   "outputs": [],
   "source": [
    "import matplotlib.pyplot as plt\n",
    "import numpy as np\n",
    "import seaborn as sns\n",
    "import torch\n",
    "from sklearn.metrics import roc_curve, auc\n",
    "from torch.cuda.amp import autocast\n",
    "from torch.utils.data import DataLoader\n",
    "from tqdm import tqdm\n",
    "\n",
    "from models.sfcn import SFCN\n",
    "from models.sfcn_daft import SFCN_DAFT\n",
    "\n",
    "import sys\n",
    "\n",
    "sys.path.append(\"..\")\n",
    "from utils.datasets import TorchDataset as TD"
   ]
  },
  {
   "cell_type": "code",
   "execution_count": 2,
   "id": "a1275a0f3af9acfc",
   "metadata": {
    "ExecuteTime": {
     "end_time": "2024-12-12T20:52:37.198288Z",
     "start_time": "2024-12-12T20:52:37.196365Z"
    },
    "collapsed": false
   },
   "outputs": [],
   "source": [
    "mode = \"test\"\n",
    "dataloader = DataLoader(TD(f\"data/{mode}\"), batch_size=8, shuffle=False)"
   ]
  },
  {
   "cell_type": "code",
   "execution_count": 3,
   "id": "4d7f288cf27516b",
   "metadata": {
    "ExecuteTime": {
     "end_time": "2024-12-12T20:52:43.499303Z",
     "start_time": "2024-12-12T20:52:43.495410Z"
    },
    "collapsed": false
   },
   "outputs": [],
   "source": [
    "@torch.no_grad()\n",
    "def test(model, dataloader, device=\"cuda\"):\n",
    "    model.eval()\n",
    "\n",
    "    pd_true = []\n",
    "    pd_pred = []\n",
    "    study = []\n",
    "    sex = []\n",
    "    scanner = []\n",
    "    for batch in tqdm(dataloader, desc=\"Test\"):\n",
    "        x = batch[0].to(device)\n",
    "        pd_true += batch[1].tolist()\n",
    "        sex += batch[2].tolist()\n",
    "        study += batch[3].tolist()\n",
    "        scanner += batch[4].tolist()\n",
    "\n",
    "        # Forward pass with mixed precision\n",
    "        with autocast():\n",
    "            pd_pred += model(x).detach().cpu().tolist()\n",
    "\n",
    "    return pd_true, pd_pred, sex, study, scanner"
   ]
  },
  {
   "cell_type": "code",
   "execution_count": 4,
   "id": "ad515499",
   "metadata": {},
   "outputs": [],
   "source": [
    "@torch.no_grad()\n",
    "def test_daft(model, dataloader, device=\"cuda\"):\n",
    "    model.eval()\n",
    "\n",
    "    pd_true = []\n",
    "    pd_pred = []\n",
    "    study = []\n",
    "    sex = []\n",
    "    scanner = []\n",
    "    for batch in tqdm(dataloader, desc=\"Test\"):\n",
    "        x = batch[0].to(device)\n",
    "        tabular = torch.stack(batch[2:5], dim=1).to(device, dtype=torch.float32)\n",
    "\n",
    "        pd_true += batch[1].tolist()\n",
    "        sex += batch[2].tolist()\n",
    "        study += batch[3].tolist()\n",
    "        scanner += batch[4].tolist()\n",
    "\n",
    "        # Forward pass with mixed precision\n",
    "        with autocast():\n",
    "            pd_pred += model(x, tabular).detach().cpu().tolist()\n",
    "\n",
    "    return pd_true, pd_pred, sex, study, scanner"
   ]
  },
  {
   "cell_type": "code",
   "execution_count": 5,
   "id": "6c8a5d48ab5e3b30",
   "metadata": {
    "ExecuteTime": {
     "end_time": "2024-12-12T20:52:43.066364Z",
     "start_time": "2024-12-12T20:52:43.063848Z"
    },
    "collapsed": false
   },
   "outputs": [],
   "source": [
    "def sigmoid(z):\n",
    "    return 1 / (1 + np.exp(-z))\n",
    "\n",
    "\n",
    "def accuracy(y_true, y_pred, threshold=0.5):\n",
    "    y_pred = y_pred > threshold\n",
    "    return np.mean(y_pred == y_true)"
   ]
  },
  {
   "cell_type": "markdown",
   "id": "f72711d8",
   "metadata": {},
   "source": [
    "## SFCN"
   ]
  },
  {
   "cell_type": "code",
   "execution_count": 6,
   "id": "6fe61544d81a122f",
   "metadata": {
    "ExecuteTime": {
     "end_time": "2024-12-12T20:52:38.717609Z",
     "start_time": "2024-12-12T20:52:37.904432Z"
    },
    "collapsed": false
   },
   "outputs": [
    {
     "name": "stderr",
     "output_type": "stream",
     "text": [
      "Test: 100%|██████████| 11/11 [00:03<00:00,  3.22it/s]\n"
     ]
    },
    {
     "data": {
      "text/plain": [
       "(0.840909090909091, 0.7738095238095238)"
      ]
     },
     "execution_count": 6,
     "metadata": {},
     "output_type": "execute_result"
    }
   ],
   "source": [
    "model = SFCN(output_dim=1, channel_number=[28, 58, 128, 256, 256, 64]).to(\"cuda\")\n",
    "checkpoint = torch.load(\"checkpoints/SFCN/best_model.pt\")\n",
    "model.load_state_dict(checkpoint[\"model_state_dict\"])\n",
    "\n",
    "pd_true, pd_pred, sex, study, scanner = test(model, dataloader)\n",
    "pd_pred = sigmoid(np.array(pd_pred).flatten())\n",
    "pd_true = np.array(pd_true).flatten()\n",
    "\n",
    "fpr, tpr, thresholds = roc_curve(pd_true, pd_pred)\n",
    "roc_auc = auc(fpr, tpr)\n",
    "acc = accuracy(pd_true, pd_pred, threshold=0.5)\n",
    "roc_auc, acc"
   ]
  },
  {
   "cell_type": "markdown",
   "id": "244d941a",
   "metadata": {},
   "source": [
    "## SFCN-DAFT"
   ]
  },
  {
   "cell_type": "code",
   "execution_count": 7,
   "id": "bf6ac019",
   "metadata": {},
   "outputs": [
    {
     "name": "stderr",
     "output_type": "stream",
     "text": [
      "Test: 100%|██████████| 11/11 [00:01<00:00,  5.89it/s]\n"
     ]
    },
    {
     "data": {
      "text/plain": [
       "(0.8625, 0.75)"
      ]
     },
     "execution_count": 7,
     "metadata": {},
     "output_type": "execute_result"
    }
   ],
   "source": [
    "model = SFCN_DAFT(output_dim=1, channel_number=[28, 58, 128, 256, 256, 64]).to(\"cuda\")\n",
    "checkpoint = torch.load(\"checkpoints/SFCN_DAFT/best_model.pt\")\n",
    "model.load_state_dict(checkpoint[\"model_state_dict\"])\n",
    "\n",
    "pd_true, pd_pred, sex, study, scanner = test_daft(model, dataloader)\n",
    "pd_pred = sigmoid(np.array(pd_pred).flatten())\n",
    "pd_true = np.array(pd_true).flatten()\n",
    "\n",
    "fpr, tpr, thresholds = roc_curve(pd_true, pd_pred)\n",
    "roc_auc = auc(fpr, tpr)\n",
    "acc = accuracy(pd_true, pd_pred, threshold=0.5)\n",
    "roc_auc, acc"
   ]
  },
  {
   "cell_type": "code",
   "execution_count": null,
   "id": "88328b1c",
   "metadata": {},
   "outputs": [],
   "source": []
  },
  {
   "cell_type": "code",
   "execution_count": null,
   "id": "c607b62c",
   "metadata": {},
   "outputs": [],
   "source": []
  }
 ],
 "metadata": {
  "kernelspec": {
   "display_name": "deep",
   "language": "python",
   "name": "python3"
  },
  "language_info": {
   "codemirror_mode": {
    "name": "ipython",
    "version": 3
   },
   "file_extension": ".py",
   "mimetype": "text/x-python",
   "name": "python",
   "nbconvert_exporter": "python",
   "pygments_lexer": "ipython3",
   "version": "3.8.13"
  }
 },
 "nbformat": 4,
 "nbformat_minor": 5
}
