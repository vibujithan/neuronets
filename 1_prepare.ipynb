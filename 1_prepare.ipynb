{
 "cells": [
  {
   "cell_type": "code",
   "execution_count": 1,
   "id": "initial_id",
   "metadata": {
    "ExecuteTime": {
     "end_time": "2024-12-12T17:06:28.226847Z",
     "start_time": "2024-12-12T17:06:28.219622Z"
    },
    "collapsed": true
   },
   "outputs": [],
   "source": [
    "import pandas as pd\n",
    "import numpy as np"
   ]
  },
  {
   "cell_type": "code",
   "execution_count": 2,
   "id": "b759821c",
   "metadata": {},
   "outputs": [
    {
     "data": {
      "text/plain": [
       "UKBB              245\n",
       "PD_MCI_CALGARY    121\n",
       "HAMBURG           113\n",
       "BIOCOG             94\n",
       "SALD               78\n",
       "C-BIG              76\n",
       "PD_MCI_PLS         62\n",
       "Japan_dataset      45\n",
       "Neurocon           42\n",
       "Taowu              37\n",
       "Name: Site, dtype: int64"
      ]
     },
     "execution_count": 2,
     "metadata": {},
     "output_type": "execute_result"
    }
   ],
   "source": [
    "df = pd.read_csv(\"data/data.csv\")\n",
    "df = df.rename(columns={\"Scanner_type\": \"Type\"})\n",
    "df = df.rename(columns={\"Study\": \"Site\"})\n",
    "df[\"Site\"].value_counts()"
   ]
  },
  {
   "cell_type": "code",
   "execution_count": 3,
   "id": "7791d50ea9971991",
   "metadata": {
    "ExecuteTime": {
     "end_time": "2024-12-12T17:06:29.050240Z",
     "start_time": "2024-12-12T17:06:29.048074Z"
    },
    "collapsed": false
   },
   "outputs": [],
   "source": [
    "def drop_study(df, sites):\n",
    "    mask = ~df[\"Site\"].str.contains(\"|\".join(sites), case=True, na=False)\n",
    "    df = df[mask]\n",
    "    df.reset_index(drop=True, inplace=True)\n",
    "    return df\n",
    "\n",
    "\n",
    "df = drop_study(df, [\"SALD\"])"
   ]
  },
  {
   "cell_type": "code",
   "execution_count": 4,
   "id": "8ffa43c5",
   "metadata": {},
   "outputs": [
    {
     "name": "stdout",
     "output_type": "stream",
     "text": [
      "{'GE Discovery 750': 0, 'Siemens Skyra': 1, 'Siemens Prisma_fit': 2, 'Siemens Avanto': 3, 'Siemens Verio': 4, 'Siemens Trio Tim': 5, 'Siemens Trio': 6, 'Siemens Sonata': 7}\n",
      "{'PD_MCI_CALGARY': 0, 'UKBB': 1, 'HAMBURG': 2, 'C-BIG': 3, 'Neurocon': 4, 'Japan_dataset': 5, 'PD_MCI_PLS': 6, 'Taowu': 7, 'BIOCOG': 8}\n"
     ]
    }
   ],
   "source": [
    "def categorize(df, col):\n",
    "    type_unique = df[col].unique()\n",
    "    type_categories = {k: v for k, v in zip(type_unique, np.arange(len(type_unique)))}\n",
    "    print(type_categories)\n",
    "    df[col] = df[col].map(type_categories)\n",
    "    return df, type_categories\n",
    "\n",
    "\n",
    "def binarize(df, col, val):\n",
    "    df[col] = (df[col] == val).astype(\"int\")\n",
    "    return df\n",
    "\n",
    "\n",
    "df, scanner_dict = categorize(df, \"Type\")\n",
    "df, study_dict = categorize(df, \"Site\")\n",
    "df = binarize(df, \"Group\", \"PD\")"
   ]
  },
  {
   "cell_type": "code",
   "execution_count": 5,
   "id": "a4904c97",
   "metadata": {},
   "outputs": [
    {
     "data": {
      "image/png": "[encoded data removed]",
      "text/plain": [
       "<Figure size 504x216 with 2 Axes>"
      ]
     },
     "metadata": {
      "needs_background": "light"
     },
     "output_type": "display_data"
    }
   ],
   "source": [
    "from utils.visualize import view_by_site_sex\n",
    "\n",
    "view_by_site_sex(df, [\"Site\", \"Sex\"])\n",
    "df = binarize(df, \"Sex\", \"M\")"
   ]
  },
  {
   "cell_type": "code",
   "execution_count": 6,
   "id": "ff51ba19",
   "metadata": {},
   "outputs": [
    {
     "name": "stdout",
     "output_type": "stream",
     "text": [
      "Index(['3_1_0'], dtype='object')\n"
     ]
    }
   ],
   "source": [
    "df[\"strat_column\"] = (\n",
    "    df[\"Site\"].astype(\"str\")\n",
    "    + \"_\"\n",
    "    + df[\"Sex\"].astype(\"str\")\n",
    "    + \"_\"\n",
    "    + df[\"Group\"].astype(\"str\")\n",
    ")\n",
    "\n",
    "strata_counts = df[\"strat_column\"].value_counts()\n",
    "strata_to_drop = strata_counts[strata_counts < 3].index\n",
    "print(strata_to_drop)\n",
    "df = df[~df[\"strat_column\"].isin(strata_to_drop)]"
   ]
  },
  {
   "cell_type": "code",
   "execution_count": 7,
   "id": "6c84e9ff3da2af5c",
   "metadata": {
    "ExecuteTime": {
     "end_time": "2024-12-12T17:09:59.910679Z",
     "start_time": "2024-12-12T17:09:59.878623Z"
    },
    "collapsed": false
   },
   "outputs": [],
   "source": [
    "from sklearn.model_selection import train_test_split\n",
    "\n",
    "\n",
    "def stratified_data_split(\n",
    "    df, target_column, train_size=0.8, val_size=0.1, test_size=0.1, random_state=42\n",
    "):\n",
    "    train_val, test = train_test_split(\n",
    "        df, test_size=test_size, stratify=df[target_column], random_state=random_state\n",
    "    )\n",
    "    train, val = train_test_split(\n",
    "        train_val,\n",
    "        test_size=val_size / (train_size + val_size),\n",
    "        stratify=train_val[target_column],\n",
    "        random_state=random_state,\n",
    "    )\n",
    "    return train, val, test\n",
    "\n",
    "\n",
    "train, val, test = stratified_data_split(df, \"strat_column\")"
   ]
  },
  {
   "cell_type": "code",
   "execution_count": 8,
   "id": "4d4c45cfedf252e7",
   "metadata": {
    "ExecuteTime": {
     "end_time": "2024-12-12T17:12:06.051857Z",
     "start_time": "2024-12-12T17:12:06.044098Z"
    },
    "collapsed": false
   },
   "outputs": [],
   "source": [
    "train.to_csv(\"data/train.csv\", index=False)\n",
    "test.to_csv(\"data/test.csv\", index=False)\n",
    "val.to_csv(\"data/val.csv\", index=False)"
   ]
  },
  {
   "cell_type": "code",
   "execution_count": 9,
   "id": "58df93cb",
   "metadata": {},
   "outputs": [
    {
     "name": "stderr",
     "output_type": "stream",
     "text": [
      "100%|██████████| 666/666 [00:46<00:00, 14.22it/s]\n",
      "100%|██████████| 84/84 [00:06<00:00, 13.86it/s]\n",
      "100%|██████████| 84/84 [00:05<00:00, 14.44it/s]\n"
     ]
    }
   ],
   "source": [
    "import os\n",
    "\n",
    "import nibabel as nib\n",
    "import torch\n",
    "from tqdm import tqdm\n",
    "\n",
    "\n",
    "def prepare(csv_path, img_dir, save_dir):\n",
    "    os.makedirs(save_dir, exist_ok=True)\n",
    "    df = pd.read_csv(csv_path, low_memory=True)\n",
    "\n",
    "    for i in tqdm(range(len(df))):\n",
    "        file_name = str(df.iloc[i][\"Subject\"]) + \".nii.gz\"\n",
    "        img_name = os.path.join(img_dir, os.path.basename(file_name))\n",
    "        img = nib.load(img_name).get_fdata().astype(\"f4\")\n",
    "\n",
    "        PD = torch.tensor(df.iloc[i][\"Group\"])\n",
    "        sex = torch.tensor(df.iloc[i][\"Sex\"])\n",
    "        age = torch.tensor(df.iloc[i][\"Age\"])\n",
    "        study = torch.tensor(df.iloc[i][\"Site\"])\n",
    "        scanner_type = torch.tensor(df.iloc[i][\"Type\"])\n",
    "\n",
    "        img = torch.tensor(np.expand_dims(img, 0))\n",
    "        torch.save(\n",
    "            (img, PD, age, sex, study, scanner_type), os.path.join(save_dir, f\"{i}\")\n",
    "        )\n",
    "\n",
    "\n",
    "img_dir = \"data/images\"\n",
    "\n",
    "prepare(\"data/train.csv\", img_dir, \"data/train\")\n",
    "prepare(\"data/val.csv\", img_dir, \"data/val\")\n",
    "prepare(\"data/test.csv\", img_dir, \"data/test\")"
   ]
  },
  {
   "cell_type": "code",
   "execution_count": null,
   "id": "74c56957",
   "metadata": {},
   "outputs": [],
   "source": []
  }
 ],
 "metadata": {
  "kernelspec": {
   "display_name": "deep",
   "language": "python",
   "name": "python3"
  },
  "language_info": {
   "codemirror_mode": {
    "name": "ipython",
    "version": 3
   },
   "file_extension": ".py",
   "mimetype": "text/x-python",
   "name": "python",
   "nbconvert_exporter": "python",
   "pygments_lexer": "ipython3",
   "version": "3.8.13"
  }
 },
 "nbformat": 4,
 "nbformat_minor": 5
}
